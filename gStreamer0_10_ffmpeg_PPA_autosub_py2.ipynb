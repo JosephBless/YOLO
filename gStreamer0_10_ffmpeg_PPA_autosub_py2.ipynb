{
  "nbformat": 4,
  "nbformat_minor": 0,
  "metadata": {
    "colab": {
      "name": "gStreamer0.10-ffmpeg PPA autosub_py2.ipynb",
      "provenance": [],
      "collapsed_sections": [],
      "include_colab_link": true
    },
    "kernelspec": {
      "name": "python2",
      "display_name": "Python 2"
    }
  },
  "cells": [
    {
      "cell_type": "markdown",
      "metadata": {
        "id": "view-in-github",
        "colab_type": "text"
      },
      "source": [
        "<a href=\"https://colab.research.google.com/github/JosephBless/YOLO/blob/main/gStreamer0_10_ffmpeg_PPA_autosub_py2.ipynb\" target=\"_parent\"><img src=\"https://colab.research.google.com/assets/colab-badge.svg\" alt=\"Open In Colab\"/></a>"
      ]
    },
    {
      "metadata": {
        "id": "YdlpMsaAtw37",
        "colab": {
          "base_uri": "https://localhost:8080/",
          "height": 2026
        },
        "outputId": "0369660e-df70-4430-820f-b86d96327af3"
      },
      "cell_type": "code",
      "source": [
        "!sudo add-apt-repository ppa:mc3man/trusty-media"
      ],
      "execution_count": null,
      "outputs": [
        {
          "output_type": "stream",
          "text": [
            " Upgraded, advanced or not normally available multimedia packages for Trusty\n",
            "Xenial users go here - https://launchpad.net/~mc3man/+archive/ubuntu/xerus-media\n",
            "\n",
            "*Please note that if using this ppa I would *not* try upgrading to 14.10/15.04, ect. Do a fresh install instead. The intent here is just for users wishing to stay on 14.04*\n",
            "\n",
            "If upgrading releases anyway use ppa-purge *First* -\n",
            "sudo ppa-purge  ppa:mc3man/trusty-media\n",
            "\n",
            "Also note that using this ppa then disabling may cause issue for installing i386 packages like used by wine. So once enabled leave enabled or purge before removing.\n",
            "\n",
            "Additionally if using apt-get * sudo  apt-get dist-upgrade will be needed* at times.(pay attention).  Otherwise package managers may be ok.\n",
            "\n",
            "So typically to enable & first use -\n",
            "sudo add-apt-repository ppa:mc3man/trusty-media\n",
            "sudo apt-get update\n",
            "sudo apt-get dist-upgrade\n",
            "\n",
            "A few notes:\n",
            "gstreamer0.10-ffmpeg - needed for some apps that still use gstreamer-0.10 & also provides h.264 in html5 decoding for firefox < 30.\n",
            "Note that Firefox 30 will support h.264 in html5 thru gstreamer1.0-libav & should be available soon\n",
            "\n",
            "A standalone ppa is here for gstreamer0.10-ffmpeg  -\n",
            "https://launchpad.net/~mc3man/+archive/ubuntu/gstffmpeg-keep\n",
            "\n",
            "Vlc: after upgrading please remove ~/.config/vlc folder to ensure proper runnning\n",
            "\n",
            "Totem - New - have added a --no-existing-session option to open a 2nd instance. Unity users can also find it in the totem quicklist\n",
            "\n",
            "Totem+grilo - it's quite possible this & RB+grilo will show in 14.04 by first point release, if so will probably remove. Also note some plugins work well, some don't at all, bit of a mess. Note that the youtube plugin is again broken, I'll not fix.\n",
            "\n",
            "rhythmbox+grilo - needs to be enabled in rhythmbox > tools > plugins\n",
            "Plus install grilo-plugins if not already\n",
            "\n",
            "mpv - has been removed as 14.04.4-lts requires higher libva than what's in 14.04 or in this ppa\n",
            "Available here with newer libva & i965 driver\n",
            "https://launchpad.net/~mc3man/+archive/mpv-tests\n",
            "\n",
            "mplayer - described here, note mencoder is not inc. & likely will not be, you may be able to use repo mencoder..\n",
            "https://launchpad.net/~mc3man/+archive/mplayer-test\n",
            "\n",
            "fdkaac (fdkaac-encoder) - described here\n",
            "https://launchpad.net/~mc3man/+archive/fdkaac-encoder\n",
            "\n",
            "x264 - for use with ffmpeg from here, supports both 8 & 10 bit encoding\n",
            "\n",
            "ffmpeg -\n",
            "a static build for use of the binaries, installed to /opt/ffmpeg\n",
            "binaries are symlinked in /usr/bin (ffmpeg, ffplay, ffprobe\n",
            "ffmpeg has nvenc enabled, ymmv depending on hardware/source files, ect.\n",
            "See for encoder names -\n",
            " ffmpeg -encoders 2>/dev/null | grep nvenc\n",
            "\n",
            "For info on using libfdk_aac see here -\n",
            "http://trac.ffmpeg.org/wiki/Encode/AAC\n",
            "\n",
            "Can be used for both 8 & 10 bit x264 encoding with this ppa's libx264, default is 8\n",
            "For 10 bit preload the 10 bit .so first in terminal, eg.,\n",
            "export LD_PRELOAD=/usr/lib/x86_64-linux-gnu/x264-10bit/libx264.so.142\n",
            "or\n",
            "export LD_PRELOAD=/usr/lib/i386-linux-gnu/x264-10bit/libx264.so.142\n",
            "\n",
            "libav - has fdkaac encoding enabled\n",
            "\n",
            "yasm -\n",
            " has been patched to improve compiling x265\n",
            "\n",
            "devede -\n",
            " can use either avconv or ffmpeg from here\n",
            " 1st choice for previewer is mplayer (version here is best\n",
            "\n",
            "K9copy -\n",
            "Mainly for ripping, as far as encoding there are better apps. If inclined to use for encoding then use mencoder as ffmpeg support is quite limited\n",
            "\n",
            "For rhythmbox users a wide range of plugins can be found here -\n",
            "https://launchpad.net/~fossfreedom/+archive/rhythmbox-plugins\n",
            "\n",
            "Abcde -\n",
            "ck. Suggested in synaptic for add. useful packages\n",
            "A guide to config is here -\n",
            "http://www.andrews-corner.org/abcde.html\n",
            "\n",
            "An excellent  audio recorder is available here -\n",
            "https://launchpad.net/~osmoma/+archive/audio-recorder\n",
            "\n",
            "A good blender ppa is here -\n",
            " https://launchpad.net/~irie/+archive/blender\n",
            "\n",
            "To further extend this ppa to libav11 check here -\n",
            "https://launchpad.net/~mc3man/+archive/ubuntu/testing6\n",
            "\n",
            "To repeat -\n",
            "*Please note that if using this ppa I would *not* try upgrading to 14.10/15.04, ect. Do a fresh install instead. The intent here is just for users wishing to stay on 14.04*\n",
            "If upgrading anyway use ppa-purge first -\n",
            "sudo ppa-purge  ppa:mc3man/trusty-media\n",
            "\n",
            "Also note that with apt-get a sudo apt-get dist-upgrade is needed for initial setup & with some package upgrades\n",
            " More info: https://launchpad.net/~mc3man/+archive/ubuntu/trusty-media\n",
            "Press [ENTER] to continue or Ctrl-c to cancel adding it.\n",
            "\n",
            "Ign:1 https://developer.download.nvidia.com/compute/cuda/repos/ubuntu1804/x86_64  InRelease\n",
            "Hit:2 https://cloud.r-project.org/bin/linux/ubuntu bionic-cran35/ InRelease\n",
            "Hit:3 http://security.ubuntu.com/ubuntu bionic-security InRelease\n",
            "Hit:4 http://ppa.launchpad.net/graphics-drivers/ppa/ubuntu bionic InRelease\n",
            "Ign:5 https://developer.download.nvidia.com/compute/machine-learning/repos/ubuntu1804/x86_64  InRelease\n",
            "Hit:6 http://archive.ubuntu.com/ubuntu bionic InRelease\n",
            "Hit:7 https://developer.download.nvidia.com/compute/cuda/repos/ubuntu1804/x86_64  Release\n",
            "Hit:8 https://developer.download.nvidia.com/compute/machine-learning/repos/ubuntu1804/x86_64  Release\n",
            "Hit:9 http://archive.ubuntu.com/ubuntu bionic-updates InRelease\n",
            "Hit:10 http://ppa.launchpad.net/marutter/c2d4u3.5/ubuntu bionic InRelease\n",
            "Hit:11 http://archive.ubuntu.com/ubuntu bionic-backports InRelease\n",
            "Ign:12 http://ppa.launchpad.net/mc3man/trusty-media/ubuntu bionic InRelease\n",
            "Err:13 http://ppa.launchpad.net/mc3man/trusty-media/ubuntu bionic Release\n",
            "  404  Not Found [IP: 91.189.95.83 80]\n",
            "Reading package lists... Done\n",
            "E: The repository 'http://ppa.launchpad.net/mc3man/trusty-media/ubuntu bionic Release' does not have a Release file.\n",
            "N: Updating from such a repository can't be done securely, and is therefore disabled by default.\n",
            "N: See apt-secure(8) manpage for repository creation and user configuration details.\n"
          ],
          "name": "stdout"
        }
      ]
    },
    {
      "metadata": {
        "id": "cHgNzCEjt_h4",
        "colab": {
          "base_uri": "https://localhost:8080/",
          "height": 343
        },
        "outputId": "fbe22ac0-bfd3-4b06-9a48-02e35cb52705"
      },
      "cell_type": "code",
      "source": [
        "!sudo apt-get update"
      ],
      "execution_count": null,
      "outputs": [
        {
          "output_type": "stream",
          "text": [
            "\r0% [Working]\r            \rHit:1 http://security.ubuntu.com/ubuntu bionic-security InRelease\n",
            "\r0% [Waiting for headers] [Connecting to cloud.r-project.org] [Waiting for heade\r                                                                               \rHit:2 http://archive.ubuntu.com/ubuntu bionic InRelease\n",
            "\r                                                                               \rHit:3 http://ppa.launchpad.net/graphics-drivers/ppa/ubuntu bionic InRelease\n",
            "\r0% [Waiting for headers] [Connecting to cloud.r-project.org] [Waiting for heade\r0% [1 InRelease gpgv 88.7 kB] [Waiting for headers] [Connecting to cloud.r-proj\r                                                                               \rHit:4 http://archive.ubuntu.com/ubuntu bionic-updates InRelease\n",
            "\r0% [1 InRelease gpgv 88.7 kB] [Connecting to cloud.r-project.org] [Waiting for \r0% [Waiting for headers] [Connecting to cloud.r-project.org] [Waiting for heade\r0% [2 InRelease gpgv 242 kB] [Waiting for headers] [Connecting to cloud.r-proje\r                                                                               \rIgn:5 https://developer.download.nvidia.com/compute/cuda/repos/ubuntu1804/x86_64  InRelease\n",
            "\r0% [2 InRelease gpgv 242 kB] [Waiting for headers] [Connecting to cloud.r-proje\r                                                                               \rHit:6 http://archive.ubuntu.com/ubuntu bionic-backports InRelease\n",
            "\r0% [2 InRelease gpgv 242 kB] [Connecting to cloud.r-project.org] [Waiting for h\r                                                                               \rHit:7 http://ppa.launchpad.net/marutter/c2d4u3.5/ubuntu bionic InRelease\n",
            "\r0% [2 InRelease gpgv 242 kB] [Connecting to cloud.r-project.org] [Waiting for h\r0% [Connecting to cloud.r-project.org] [Waiting for headers] [Connecting to ppa\r0% [3 InRelease gpgv 21.3 kB] [Connecting to cloud.r-project.org] [Waiting for \r                                                                               \rIgn:8 https://developer.download.nvidia.com/compute/machine-learning/repos/ubuntu1804/x86_64  InRelease\n",
            "\r0% [3 InRelease gpgv 21.3 kB] [Connecting to cloud.r-project.org] [Connecting t\r                                                                               \rHit:9 https://developer.download.nvidia.com/compute/cuda/repos/ubuntu1804/x86_64  Release\n",
            "\r0% [3 InRelease gpgv 21.3 kB] [Connecting to cloud.r-project.org] [Connecting t\r                                                                               \rHit:10 https://developer.download.nvidia.com/compute/machine-learning/repos/ubuntu1804/x86_64  Release\n",
            "\r0% [3 InRelease gpgv 21.3 kB] [Connecting to cloud.r-project.org] [Waiting for \r                                                                               \r0% [Connecting to cloud.r-project.org] [Waiting for headers]\r0% [4 InRelease gpgv 88.7 kB] [Connecting to cloud.r-project.org] [Waiting for \r                                                                               \rIgn:11 http://ppa.launchpad.net/mc3man/trusty-media/ubuntu bionic InRelease\n",
            "\r0% [4 InRelease gpgv 88.7 kB] [Connected to cloud.r-project.org (13.35.115.107)\r0% [Connected to cloud.r-project.org (13.35.115.107)] [Connecting to ppa.launch\r0% [6 InRelease gpgv 74.6 kB] [Connected to cloud.r-project.org (13.35.115.107)\r                                                                               \rHit:12 https://cloud.r-project.org/bin/linux/ubuntu bionic-cran35/ InRelease\n",
            "\r                                                                               \r0% [6 InRelease gpgv 74.6 kB] [Waiting for headers]\r                                                   \rErr:13 http://ppa.launchpad.net/mc3man/trusty-media/ubuntu bionic Release\n",
            "  404  Not Found [IP: 91.189.95.83 80]\n",
            "Reading package lists... Done\n",
            "E: The repository 'http://ppa.launchpad.net/mc3man/trusty-media/ubuntu bionic Release' does not have a Release file.\n",
            "N: Updating from such a repository can't be done securely, and is therefore disabled by default.\n",
            "N: See apt-secure(8) manpage for repository creation and user configuration details.\n"
          ],
          "name": "stdout"
        }
      ]
    },
    {
      "metadata": {
        "id": "U1cnQwIzvAjv",
        "colab": {
          "base_uri": "https://localhost:8080/",
          "height": 102
        },
        "outputId": "d5edf576-7a5f-4207-c9bb-38ec4b77d7ed"
      },
      "cell_type": "code",
      "source": [
        "!sudo apt-get install ffmpeg -y"
      ],
      "execution_count": null,
      "outputs": [
        {
          "output_type": "stream",
          "text": [
            "Reading package lists... Done\n",
            "Building dependency tree       \n",
            "Reading state information... Done\n",
            "ffmpeg is already the newest version (7:3.4.4-0ubuntu0.18.04.1).\n",
            "0 upgraded, 0 newly installed, 0 to remove and 54 not upgraded.\n"
          ],
          "name": "stdout"
        }
      ]
    },
    {
      "metadata": {
        "id": "V7UCa-zFvDHe",
        "colab": {
          "base_uri": "https://localhost:8080/",
          "height": 547
        },
        "outputId": "9aaae639-79a9-4e29-aa45-4ca54c102ba7"
      },
      "cell_type": "code",
      "source": [
        "!sudo pip install autosub"
      ],
      "execution_count": null,
      "outputs": [
        {
          "output_type": "stream",
          "text": [
            "\u001b[33mDEPRECATION: Python 2.7 will reach the end of its life on January 1st, 2020. Please upgrade your Python as Python 2.7 won't be maintained after that date. A future version of pip will drop support for Python 2.7.\u001b[0m\n",
            "Collecting autosub\n",
            "  Using cached https://files.pythonhosted.org/packages/f3/31/d3d677e97ec3e24ae6131df91eb5d20650309e3ed5122361613792180fb7/autosub-0.3.12.tar.gz\n",
            "Requirement already satisfied: google-api-python-client>=1.4.2 in /usr/local/lib/python2.7/dist-packages (from autosub) (1.6.7)\n",
            "Requirement already satisfied: requests>=2.3.0 in /usr/local/lib/python2.7/dist-packages (from autosub) (2.18.4)\n",
            "Collecting pysrt>=1.0.1 (from autosub)\n",
            "  Using cached https://files.pythonhosted.org/packages/f6/33/16ad65a8973cb8bcb494af09ee1b9ab5ffdd6ff300bce5d3ac7d3cb1f2cc/pysrt-1.1.1.tar.gz\n",
            "Collecting progressbar>=2.3 (from autosub)\n",
            "  Using cached https://files.pythonhosted.org/packages/a3/a6/b8e451f6cff1c99b4747a2f7235aa904d2d49e8e1464e0b798272aa84358/progressbar-2.5.tar.gz\n",
            "Requirement already satisfied: six<2dev,>=1.6.1 in /usr/local/lib/python2.7/dist-packages (from google-api-python-client>=1.4.2->autosub) (1.11.0)\n",
            "Requirement already satisfied: httplib2<1dev,>=0.9.2 in /usr/local/lib/python2.7/dist-packages (from google-api-python-client>=1.4.2->autosub) (0.11.3)\n",
            "Requirement already satisfied: oauth2client<5.0.0dev,>=1.5.0 in /usr/local/lib/python2.7/dist-packages (from google-api-python-client>=1.4.2->autosub) (4.1.3)\n",
            "Requirement already satisfied: uritemplate<4dev,>=3.0.0 in /usr/local/lib/python2.7/dist-packages (from google-api-python-client>=1.4.2->autosub) (3.0.0)\n",
            "Requirement already satisfied: idna<2.7,>=2.5 in /usr/local/lib/python2.7/dist-packages (from requests>=2.3.0->autosub) (2.6)\n",
            "Requirement already satisfied: urllib3<1.23,>=1.21.1 in /usr/local/lib/python2.7/dist-packages (from requests>=2.3.0->autosub) (1.22)\n",
            "Requirement already satisfied: certifi>=2017.4.17 in /usr/local/lib/python2.7/dist-packages (from requests>=2.3.0->autosub) (2018.11.29)\n",
            "Requirement already satisfied: chardet<3.1.0,>=3.0.2 in /usr/local/lib/python2.7/dist-packages (from requests>=2.3.0->autosub) (3.0.4)\n",
            "Requirement already satisfied: rsa>=3.1.4 in /usr/local/lib/python2.7/dist-packages (from oauth2client<5.0.0dev,>=1.5.0->google-api-python-client>=1.4.2->autosub) (4.0)\n",
            "Requirement already satisfied: pyasn1>=0.1.7 in /usr/local/lib/python2.7/dist-packages (from oauth2client<5.0.0dev,>=1.5.0->google-api-python-client>=1.4.2->autosub) (0.4.5)\n",
            "Requirement already satisfied: pyasn1-modules>=0.0.5 in /usr/local/lib/python2.7/dist-packages (from oauth2client<5.0.0dev,>=1.5.0->google-api-python-client>=1.4.2->autosub) (0.2.4)\n",
            "Building wheels for collected packages: autosub, pysrt, progressbar\n",
            "  Building wheel for autosub (setup.py) ... \u001b[?25ldone\n",
            "\u001b[?25h  Stored in directory: /root/.cache/pip/wheels/be/bc/a7/b294317648c3b6b2bee17af145bf40e69f3c1c189c48a352fd\n",
            "  Building wheel for pysrt (setup.py) ... \u001b[?25ldone\n",
            "\u001b[?25h  Stored in directory: /root/.cache/pip/wheels/a6/95/51/25db5b533f7c8c3bccf661a7f2bf67caaf893f6f92bb37da33\n",
            "  Building wheel for progressbar (setup.py) ... \u001b[?25ldone\n",
            "\u001b[?25h  Stored in directory: /root/.cache/pip/wheels/c0/e9/6b/ea01090205e285175842339aa3b491adeb4015206cda272ff0\n",
            "Successfully built autosub pysrt progressbar\n",
            "Installing collected packages: pysrt, progressbar, autosub\n",
            "Successfully installed autosub-0.3.12 progressbar-2.5 pysrt-1.1.1\n"
          ],
          "name": "stdout"
        }
      ]
    },
    {
      "metadata": {
        "id": "Cz-aMGdYvF9H",
        "colab": {
          "base_uri": "https://localhost:8080/",
          "height": 476
        },
        "outputId": "67b68787-2e6a-4843-e546-fe24e388389a"
      },
      "cell_type": "code",
      "source": [
        "!autosub -h"
      ],
      "execution_count": null,
      "outputs": [
        {
          "output_type": "stream",
          "text": [
            "usage: autosub [-h] [-C CONCURRENCY] [-o OUTPUT] [-F FORMAT] [-S SRC_LANGUAGE]\n",
            "               [-D DST_LANGUAGE] [-K API_KEY] [--list-formats]\n",
            "               [--list-languages]\n",
            "               [source_path]\n",
            "\n",
            "positional arguments:\n",
            "  source_path           Path to the video or audio file to subtitle\n",
            "\n",
            "optional arguments:\n",
            "  -h, --help            show this help message and exit\n",
            "  -C CONCURRENCY, --concurrency CONCURRENCY\n",
            "                        Number of concurrent API requests to make\n",
            "  -o OUTPUT, --output OUTPUT\n",
            "                        Output path for subtitles (by default, subtitles are\n",
            "                        saved in the same directory and name as the source\n",
            "                        path)\n",
            "  -F FORMAT, --format FORMAT\n",
            "                        Destination subtitle format\n",
            "  -S SRC_LANGUAGE, --src-language SRC_LANGUAGE\n",
            "                        Language spoken in source file\n",
            "  -D DST_LANGUAGE, --dst-language DST_LANGUAGE\n",
            "                        Desired language for the subtitles\n",
            "  -K API_KEY, --api-key API_KEY\n",
            "                        The Google Translate API key to be used. (Required for\n",
            "                        subtitle translation)\n",
            "  --list-formats        List all available subtitle formats\n",
            "  --list-languages      List all available source/destination languages\n"
          ],
          "name": "stdout"
        }
      ]
    },
    {
      "metadata": {
        "id": "rtXebsBSvMRY",
        "colab": {
          "base_uri": "https://localhost:8080/",
          "height": 88
        },
        "outputId": "cb67b88a-1d7b-4e0d-9522-26a90f3a829e"
      },
      "cell_type": "code",
      "source": [
        "!autosub \"t1.mp4\" -S en -D vi"
      ],
      "execution_count": null,
      "outputs": [
        {
          "output_type": "stream",
          "text": [
            "Converting speech regions to FLAC files: 100% || Time: 0:00:32\n",
            "Performing speech recognition: 100% || Time: 0:00:49\n",
            "Error: Subtitle translation requires specified Google Translate API key.                     See --help for further information.\n"
          ],
          "name": "stdout"
        }
      ]
    },
    {
      "metadata": {
        "id": "kmxF-2KAvQaD",
        "colab": {
          "base_uri": "https://localhost:8080/",
          "height": 68
        },
        "outputId": "07bc1333-fcf6-4ed5-aaa5-379288c9293d"
      },
      "cell_type": "code",
      "source": [
        "!autosub \"t1.mp4\""
      ],
      "execution_count": null,
      "outputs": [
        {
          "output_type": "stream",
          "text": [
            "Converting speech regions to FLAC files: 100% || Time: 0:00:31\n",
            "Performing speech recognition: 100% || Time: 0:00:50\n",
            "Subtitles file created at t1.srt\n"
          ],
          "name": "stdout"
        }
      ]
    },
    {
      "metadata": {
        "id": "K5E1wwdjwc6l",
        "colab": {
          "base_uri": "https://localhost:8080/",
          "height": 1581
        },
        "outputId": "3b0c4cf8-7983-4967-e163-e4d407bcfe8e"
      },
      "cell_type": "code",
      "source": [
        "!autosub --list-languages"
      ],
      "execution_count": null,
      "outputs": [
        {
          "output_type": "stream",
          "text": [
            "List of all languages:\n",
            "af\tAfrikaans\n",
            "ar\tArabic\n",
            "az\tAzerbaijani\n",
            "be\tBelarusian\n",
            "bg\tBulgarian\n",
            "bn\tBengali\n",
            "bs\tBosnian\n",
            "ca\tCatalan\n",
            "ceb\tCebuano\n",
            "cs\tCzech\n",
            "cy\tWelsh\n",
            "da\tDanish\n",
            "de\tGerman\n",
            "el\tGreek\n",
            "en\tEnglish\n",
            "eo\tEsperanto\n",
            "es\tSpanish\n",
            "et\tEstonian\n",
            "eu\tBasque\n",
            "fa\tPersian\n",
            "fi\tFinnish\n",
            "fr\tFrench\n",
            "ga\tIrish\n",
            "gl\tGalician\n",
            "gu\tGujarati\n",
            "ha\tHausa\n",
            "hi\tHindi\n",
            "hmn\tHmong\n",
            "hr\tCroatian\n",
            "ht\tHaitian Creole\n",
            "hu\tHungarian\n",
            "hy\tArmenian\n",
            "id\tIndonesian\n",
            "ig\tIgbo\n",
            "is\tIcelandic\n",
            "it\tItalian\n",
            "iw\tHebrew\n",
            "ja\tJapanese\n",
            "jw\tJavanese\n",
            "ka\tGeorgian\n",
            "kk\tKazakh\n",
            "km\tKhmer\n",
            "kn\tKannada\n",
            "ko\tKorean\n",
            "la\tLatin\n",
            "lo\tLao\n",
            "lt\tLithuanian\n",
            "lv\tLatvian\n",
            "mg\tMalagasy\n",
            "mi\tMaori\n",
            "mk\tMacedonian\n",
            "ml\tMalayalam\n",
            "mn\tMongolian\n",
            "mr\tMarathi\n",
            "ms\tMalay\n",
            "mt\tMaltese\n",
            "my\tMyanmar (Burmese)\n",
            "ne\tNepali\n",
            "nl\tDutch\n",
            "no\tNorwegian\n",
            "ny\tChichewa\n",
            "pa\tPunjabi\n",
            "pl\tPolish\n",
            "pt\tPortuguese\n",
            "ro\tRomanian\n",
            "ru\tRussian\n",
            "si\tSinhala\n",
            "sk\tSlovak\n",
            "sl\tSlovenian\n",
            "so\tSomali\n",
            "sq\tAlbanian\n",
            "sr\tSerbian\n",
            "st\tSesotho\n",
            "su\tSudanese\n",
            "sv\tSwedish\n",
            "sw\tSwahili\n",
            "ta\tTamil\n",
            "te\tTelugu\n",
            "tg\tTajik\n",
            "th\tThai\n",
            "tl\tFilipino\n",
            "tr\tTurkish\n",
            "uk\tUkrainian\n",
            "ur\tUrdu\n",
            "uz\tUzbek\n",
            "vi\tVietnamese\n",
            "yi\tYiddish\n",
            "yo\tYoruba\n",
            "zh-CN\tChinese (Simplified)\n",
            "zh-TW\tChinese (Traditional)\n",
            "zu\tZulu\n"
          ],
          "name": "stdout"
        }
      ]
    },
    {
      "metadata": {
        "id": "b076pERrxi0g"
      },
      "cell_type": "code",
      "source": [
        "!cd /content/concoc/"
      ],
      "execution_count": null,
      "outputs": []
    },
    {
      "metadata": {
        "id": "dZzYOoc_0qvB",
        "colab": {
          "base_uri": "https://localhost:8080/",
          "height": 34
        },
        "outputId": "6e9895c4-0033-442f-dd9f-95e63c780a2d"
      },
      "cell_type": "code",
      "source": [
        "!cd \"concoc\""
      ],
      "execution_count": null,
      "outputs": [
        {
          "output_type": "stream",
          "text": [
            "concoc\tsample_data  t1.mp4  videos\n"
          ],
          "name": "stdout"
        }
      ]
    },
    {
      "metadata": {
        "id": "03wxvKvf08Qk"
      },
      "cell_type": "code",
      "source": [
        "!rm -R content"
      ],
      "execution_count": null,
      "outputs": []
    },
    {
      "metadata": {
        "id": "kcuWMGjF1s0C",
        "colab": {
          "base_uri": "https://localhost:8080/",
          "height": 34
        },
        "outputId": "4746e460-2783-4bbc-d991-42fcd7b58fe3"
      },
      "cell_type": "code",
      "source": [
        "cd /content/concoc/"
      ],
      "execution_count": null,
      "outputs": [
        {
          "output_type": "stream",
          "text": [
            "/content/concoc\n"
          ],
          "name": "stdout"
        }
      ]
    },
    {
      "metadata": {
        "id": "a92GMjAV2A5F",
        "colab": {
          "base_uri": "https://localhost:8080/",
          "height": 34
        },
        "outputId": "dc6cbbfa-70e9-4a41-fe87-14d885a93ff5"
      },
      "cell_type": "code",
      "source": [
        "ls"
      ],
      "execution_count": null,
      "outputs": [
        {
          "output_type": "stream",
          "text": [
            "'SỰ TÍCH VỀ CON CÓC - Chuyen Co Tich - Truyện Cổ Tích Hay Nhất - Quà Tặng Cuộc Sống 2019.mp4'\n"
          ],
          "name": "stdout"
        }
      ]
    },
    {
      "metadata": {
        "id": "wONspteU2CUx"
      },
      "cell_type": "code",
      "source": [
        "!mv 'SỰ TÍCH VỀ CON CÓC - Chuyen Co Tich - Truyện Cổ Tích Hay Nhất - Quà Tặng Cuộc Sống 2019.mp4' 't2.mp4'"
      ],
      "execution_count": null,
      "outputs": []
    },
    {
      "metadata": {
        "id": "jckBzYxr2HdM",
        "colab": {
          "base_uri": "https://localhost:8080/",
          "height": 68
        },
        "outputId": "afdc714e-6d0b-4ac7-90fb-32f190056207"
      },
      "cell_type": "code",
      "source": [
        "!autosub \"t2.mp4\" -S vi -D vi"
      ],
      "execution_count": null,
      "outputs": [
        {
          "output_type": "stream",
          "text": [
            "Converting speech regions to FLAC files: 100% || Time: 0:00:13\n",
            "Performing speech recognition: 100% || Time: 0:00:36\n",
            "Subtitles file created at t2.srt\n"
          ],
          "name": "stdout"
        }
      ]
    },
    {
      "metadata": {
        "id": "zfPS78Mi4EOo"
      },
      "cell_type": "code",
      "source": [
        ""
      ],
      "execution_count": null,
      "outputs": []
    }
  ]
}